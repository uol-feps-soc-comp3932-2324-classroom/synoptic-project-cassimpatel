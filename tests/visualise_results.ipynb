{
 "cells": [
  {
   "cell_type": "code",
   "execution_count": 39,
   "metadata": {},
   "outputs": [],
   "source": [
    "# TODO: short markdown readme on what this notebook does"
   ]
  },
  {
   "cell_type": "code",
   "execution_count": 40,
   "metadata": {},
   "outputs": [],
   "source": [
    "import matplotlib.pyplot as plt\n",
    "import os\n",
    "import pandas as pd\n",
    "import json\n",
    "\n",
    "# if looking for a particular export: provide name in format 'res_YYYY_MM_DD_THH_MM_SS'\n",
    "RESULTS_DIR = None"
   ]
  },
  {
   "cell_type": "code",
   "execution_count": 41,
   "metadata": {},
   "outputs": [
    {
     "name": "stdout",
     "output_type": "stream",
     "text": [
      "Reading from results folder: results/res_2024_03_04_T20_23_08/\n"
     ]
    }
   ],
   "source": [
    "# calculate last export generated if none is specified, read in files\n",
    "if RESULTS_DIR == None:\n",
    "    dir_list = next(os.walk('results/'))[1]\n",
    "    RESULTS_DIR = max(dir_list)\n",
    "\n",
    "full_path        = f'results/{RESULTS_DIR}/'\n",
    "correctness_dump = f'{full_path}/results_correctness.json'\n",
    "times_dump       = f'{full_path}/results_times.json'\n",
    "\n",
    "print('Reading from results folder:', full_path)"
   ]
  },
  {
   "cell_type": "code",
   "execution_count": 42,
   "metadata": {},
   "outputs": [
    {
     "data": {
      "text/html": [
       "<div>\n",
       "<style scoped>\n",
       "    .dataframe tbody tr th:only-of-type {\n",
       "        vertical-align: middle;\n",
       "    }\n",
       "\n",
       "    .dataframe tbody tr th {\n",
       "        vertical-align: top;\n",
       "    }\n",
       "\n",
       "    .dataframe thead th {\n",
       "        text-align: right;\n",
       "    }\n",
       "</style>\n",
       "<table border=\"1\" class=\"dataframe\">\n",
       "  <thead>\n",
       "    <tr style=\"text-align: right;\">\n",
       "      <th></th>\n",
       "      <th>adjusted_mutual_info_score</th>\n",
       "      <th>adjusted_rand_score</th>\n",
       "      <th>completeness_score</th>\n",
       "      <th>experiment</th>\n",
       "      <th>homogeneity_score</th>\n",
       "      <th>n_points</th>\n",
       "      <th>noise</th>\n",
       "      <th>normalized_mutual_info_score</th>\n",
       "      <th>timed_out</th>\n",
       "      <th>v_meausure_score</th>\n",
       "      <th>variant</th>\n",
       "    </tr>\n",
       "  </thead>\n",
       "  <tbody>\n",
       "    <tr>\n",
       "      <th>0</th>\n",
       "      <td>0.794621</td>\n",
       "      <td>0.844843</td>\n",
       "      <td>0.797977</td>\n",
       "      <td>DEFAULT</td>\n",
       "      <td>0.794289</td>\n",
       "      <td>100</td>\n",
       "      <td>0.0</td>\n",
       "      <td>0.796129</td>\n",
       "      <td>False</td>\n",
       "      <td>0.796129</td>\n",
       "      <td>DEFAULT</td>\n",
       "    </tr>\n",
       "    <tr>\n",
       "      <th>1</th>\n",
       "      <td>1.000000</td>\n",
       "      <td>1.000000</td>\n",
       "      <td>1.000000</td>\n",
       "      <td>DEFAULT</td>\n",
       "      <td>1.000000</td>\n",
       "      <td>100</td>\n",
       "      <td>0.0</td>\n",
       "      <td>1.000000</td>\n",
       "      <td>False</td>\n",
       "      <td>1.000000</td>\n",
       "      <td>DEFAULT</td>\n",
       "    </tr>\n",
       "    <tr>\n",
       "      <th>2</th>\n",
       "      <td>0.726688</td>\n",
       "      <td>0.772131</td>\n",
       "      <td>0.732535</td>\n",
       "      <td>DEFAULT</td>\n",
       "      <td>0.724907</td>\n",
       "      <td>100</td>\n",
       "      <td>0.0</td>\n",
       "      <td>0.728701</td>\n",
       "      <td>False</td>\n",
       "      <td>0.728701</td>\n",
       "      <td>DEFAULT</td>\n",
       "    </tr>\n",
       "    <tr>\n",
       "      <th>3</th>\n",
       "      <td>0.928867</td>\n",
       "      <td>0.960200</td>\n",
       "      <td>0.929259</td>\n",
       "      <td>DEFAULT</td>\n",
       "      <td>0.928991</td>\n",
       "      <td>200</td>\n",
       "      <td>0.0</td>\n",
       "      <td>0.929125</td>\n",
       "      <td>False</td>\n",
       "      <td>0.929125</td>\n",
       "      <td>DEFAULT</td>\n",
       "    </tr>\n",
       "    <tr>\n",
       "      <th>4</th>\n",
       "      <td>0.877762</td>\n",
       "      <td>0.921205</td>\n",
       "      <td>0.878714</td>\n",
       "      <td>DEFAULT</td>\n",
       "      <td>0.877699</td>\n",
       "      <td>200</td>\n",
       "      <td>0.0</td>\n",
       "      <td>0.878206</td>\n",
       "      <td>False</td>\n",
       "      <td>0.878206</td>\n",
       "      <td>DEFAULT</td>\n",
       "    </tr>\n",
       "  </tbody>\n",
       "</table>\n",
       "</div>"
      ],
      "text/plain": [
       "   adjusted_mutual_info_score  adjusted_rand_score  completeness_score  \\\n",
       "0                    0.794621             0.844843            0.797977   \n",
       "1                    1.000000             1.000000            1.000000   \n",
       "2                    0.726688             0.772131            0.732535   \n",
       "3                    0.928867             0.960200            0.929259   \n",
       "4                    0.877762             0.921205            0.878714   \n",
       "\n",
       "  experiment  homogeneity_score  n_points  noise  \\\n",
       "0    DEFAULT           0.794289       100    0.0   \n",
       "1    DEFAULT           1.000000       100    0.0   \n",
       "2    DEFAULT           0.724907       100    0.0   \n",
       "3    DEFAULT           0.928991       200    0.0   \n",
       "4    DEFAULT           0.877699       200    0.0   \n",
       "\n",
       "   normalized_mutual_info_score timed_out  v_meausure_score  variant  \n",
       "0                      0.796129     False          0.796129  DEFAULT  \n",
       "1                      1.000000     False          1.000000  DEFAULT  \n",
       "2                      0.728701     False          0.728701  DEFAULT  \n",
       "3                      0.929125     False          0.929125  DEFAULT  \n",
       "4                      0.878206     False          0.878206  DEFAULT  "
      ]
     },
     "execution_count": 42,
     "metadata": {},
     "output_type": "execute_result"
    }
   ],
   "source": [
    "def json_to_df(path):\n",
    "  # unzip the file, load in each line as an object\n",
    "  g = open(path, 'rb')\n",
    "  g = [json.loads(l) for l in g]\n",
    "\n",
    "  # map to a dictionary, then load in as a dataframe\n",
    "  dict_df = {i: d for (i, d) in enumerate(g)}\n",
    "  return pd.DataFrame.from_dict(dict_df, orient='index')\n",
    "\n",
    "times_df       = json_to_df(times_dump)\n",
    "correctness_df = json_to_df(correctness_dump)\n",
    "\n",
    "correctness_df.head()"
   ]
  },
  {
   "cell_type": "code",
   "execution_count": 43,
   "metadata": {},
   "outputs": [],
   "source": [
    "# TODO: add basic set of plots for set of results (correctness/time), from selected(or last) result report"
   ]
  },
  {
   "cell_type": "code",
   "execution_count": 44,
   "metadata": {},
   "outputs": [
    {
     "data": {
      "text/plain": [
       "<matplotlib.collections.PathCollection at 0x1504a03a0>"
      ]
     },
     "execution_count": 44,
     "metadata": {},
     "output_type": "execute_result"
    },
    {
     "data": {
      "image/png": "[encoded data removed]",
      "text/plain": [
       "<Figure size 640x480 with 1 Axes>"
      ]
     },
     "metadata": {},
     "output_type": "display_data"
    }
   ],
   "source": [
    "plt.scatter(times_df['noise'], times_df['time'])"
   ]
  }
 ],
 "metadata": {
  "language_info": {
   "name": "python"
  },
  "orig_nbformat": 4
 },
 "nbformat": 4,
 "nbformat_minor": 2
}
